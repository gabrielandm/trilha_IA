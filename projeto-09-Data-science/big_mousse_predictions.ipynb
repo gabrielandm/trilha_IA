{
 "cells": [
  {
   "cell_type": "code",
   "execution_count": 1,
   "metadata": {},
   "outputs": [],
   "source": [
    "import pandas as pd\n",
    "import numpy as np\n",
    "from sklearn.tree import DecisionTreeClassifier\n",
    "from sklearn.model_selection import train_test_split\n",
    "from sklearn.metrics import accuracy_score\n",
    "from joblib import dump, load\n",
    "from sklearn import tree\n",
    "from sklearn.impute import SimpleImputer\n",
    "from sklearn.metrics import mean_absolute_error\n",
    "from sklearn.tree import DecisionTreeRegressor\n",
    "from sklearn.ensemble import RandomForestRegressor\n",
    "# New learning model from: https://www.kaggle.com/alexisbcook/xgboost\n",
    "from xgboost import XGBRegressor\n",
    "\n",
    "df = pd.read_csv('diabetes.csv')\n",
    "\n",
    "my_imputer = SimpleImputer()\n",
    "\n",
    "df = df[df[\"BMI\"] != 0]\n",
    "df = df[df[\"BloodPressure\"] != 0]\n",
    "df = df[df[\"SkinThickness\"] != 0]\n",
    "df = df[df[\"Glucose\"] != 0]"
   ]
  },
  {
   "cell_type": "code",
   "execution_count": 2,
   "metadata": {},
   "outputs": [],
   "source": [
    "# X = df.drop(columns=[\"Outcome\"])\n",
    "# y = df[\"Outcome\"]\n",
    "\n",
    "X = df.copy()\n",
    "y = X.pop(\"Outcome\")\n",
    "\n",
    "X_train, X_test, y_train, y_test = train_test_split(X, y, test_size=0.2)"
   ]
  },
  {
   "cell_type": "code",
   "execution_count": 3,
   "metadata": {},
   "outputs": [
    {
     "name": "stdout",
     "output_type": "stream",
     "text": [
      "XGBRegressor (no parameters): 0.3003842558572504\n"
     ]
    }
   ],
   "source": [
    "xgbr_model = XGBRegressor()\n",
    "xgbr_model.fit(X_train, y_train,\n",
    "              early_stopping_rounds=5,\n",
    "              eval_set=[(X_test, y_test)],\n",
    "              verbose=False)\n",
    "predictions = xgbr_model.predict(X_test)\n",
    "\n",
    "print(\"XGBRegressor (no parameters): \" + str(mean_absolute_error(predictions, y_test)))"
   ]
  },
  {
   "cell_type": "code",
   "execution_count": 4,
   "metadata": {},
   "outputs": [
    {
     "name": "stdout",
     "output_type": "stream",
     "text": [
      "XGBRegressor: 0.32239702122534025\n"
     ]
    }
   ],
   "source": [
    "xgbr_model = XGBRegressor(n_estimators=500)\n",
    "xgbr_model.fit(X_train, y_train)\n",
    "predictions = xgbr_model.predict(X_test)\n",
    "print(\"XGBRegressor: \" + str(mean_absolute_error(predictions, y_test)))"
   ]
  },
  {
   "cell_type": "code",
   "execution_count": 5,
   "metadata": {},
   "outputs": [
    {
     "name": "stdout",
     "output_type": "stream",
     "text": [
      "RandomForestRegressor: 0.27289719626168224\n"
     ]
    }
   ],
   "source": [
    "def score_dataset(X_train, X_valid, y_train, y_valid):\n",
    "    model = RandomForestRegressor(n_estimators=10)\n",
    "    model.fit(X_train, y_train)\n",
    "    preds = model.predict(X_valid)\n",
    "    return mean_absolute_error(y_valid, preds)\n",
    "\n",
    "imputed_X_train = pd.DataFrame(my_imputer.fit_transform(X_train))\n",
    "imputed_X_test = pd.DataFrame(my_imputer.transform(X_test))\n",
    "\n",
    "imputed_X_train.columns = X_train.columns\n",
    "imputed_X_test.columns = X_test.columns\n",
    "\n",
    "print(f'RandomForestRegressor: {score_dataset(imputed_X_train, imputed_X_test, y_train, y_test)}')"
   ]
  },
  {
   "cell_type": "code",
   "execution_count": 6,
   "metadata": {},
   "outputs": [
    {
     "name": "stdout",
     "output_type": "stream",
     "text": [
      "DecisionTreeClassifier (no params): 0.27102803738317754\n"
     ]
    }
   ],
   "source": [
    "model = DecisionTreeClassifier()\n",
    "model.fit(X_train, y_train)\n",
    "X_test_predictions = model.predict(X_test)\n",
    "\n",
    "print(f'DecisionTreeClassifier (no params): {mean_absolute_error(y_test, X_test_predictions)}')\n",
    "# The lower the better in this case"
   ]
  },
  {
   "cell_type": "code",
   "execution_count": 7,
   "metadata": {},
   "outputs": [
    {
     "name": "stdout",
     "output_type": "stream",
     "text": [
      "Max leaf nodes: 10  \t\t Mean Absolute Error:  0.2903849700383366\n",
      "Max leaf nodes: 30  \t\t Mean Absolute Error:  0.2892094245959216\n",
      "Max leaf nodes: 70  \t\t Mean Absolute Error:  0.32968095391556557\n",
      "Max leaf nodes: 100  \t\t Mean Absolute Error:  0.2523364485981308\n",
      "Max leaf nodes: 200  \t\t Mean Absolute Error:  0.2803738317757009\n",
      "Max leaf nodes: 400  \t\t Mean Absolute Error:  0.24299065420560748\n",
      "Max leaf nodes: 800  \t\t Mean Absolute Error:  0.2803738317757009\n",
      "Max leaf nodes: 1000  \t\t Mean Absolute Error:  0.2803738317757009\n",
      "Max leaf nodes: 1250  \t\t Mean Absolute Error:  0.2616822429906542\n",
      "Max leaf nodes: 1500  \t\t Mean Absolute Error:  0.2897196261682243\n"
     ]
    }
   ],
   "source": [
    "def get_mae(max_leaf_nodes, train_X, val_X, train_y, val_y):\n",
    "    model = DecisionTreeRegressor(max_leaf_nodes=max_leaf_nodes)\n",
    "    model.fit(train_X, train_y)\n",
    "    preds_val = model.predict(val_X)\n",
    "    mae = mean_absolute_error(val_y, preds_val)\n",
    "    return(mae)\n",
    "\n",
    "for max_leaf_nodes in [10, 30, 70, 100, 200, 400, 800, 1000, 1250, 1500]:\n",
    "    my_mae = get_mae(max_leaf_nodes, X_train, X_test, y_train, y_test)\n",
    "    print(f\"Max leaf nodes: {max_leaf_nodes}  \\t\\t Mean Absolute Error:  {my_mae}\")"
   ]
  },
  {
   "cell_type": "code",
   "execution_count": 8,
   "metadata": {},
   "outputs": [
    {
     "name": "stdout",
     "output_type": "stream",
     "text": [
      "RandomForestRegressor (no params): 0.2896261682242991\n"
     ]
    }
   ],
   "source": [
    "forest_model = RandomForestRegressor()\n",
    "forest_model.fit(X_train, y_train)\n",
    "mousse_predicts = forest_model.predict(X_test)\n",
    "print(f'RandomForestRegressor (no params): {mean_absolute_error(y_test, mousse_predicts)}')"
   ]
  }
 ],
 "metadata": {
  "kernelspec": {
   "display_name": "Python 3",
   "language": "python",
   "name": "python3"
  },
  "language_info": {
   "codemirror_mode": {
    "name": "ipython",
    "version": 3
   },
   "file_extension": ".py",
   "mimetype": "text/x-python",
   "name": "python",
   "nbconvert_exporter": "python",
   "pygments_lexer": "ipython3",
   "version": "3.8.5"
  }
 },
 "nbformat": 4,
 "nbformat_minor": 4
}
