{
 "cells": [
  {
   "cell_type": "markdown",
   "id": "a5ffd4e4-049d-4471-9771-54788b23f0e2",
   "metadata": {},
   "source": [
    "# Introduction\n",
    "\n",
    "This Jupyter Notebook has the objective to create a Neural Network model that can predict if the person has diabetes.\n",
    "\n",
    "## Libraries used\n",
    "\n",
    "For this challenge I have used:\n",
    "\n",
    "- tensorflow\n",
    "- keras\n",
    "- numpy\n",
    "- pandas\n",
    "- scikit-learn\n",
    "- scikit-plot\n",
    "\n",
    "# The code!\n",
    "\n",
    "## Importing the dataset\n",
    "\n",
    "To begin let's import the dataset into a panda's dataframe and creating the X and y tables."
   ]
  },
  {
   "cell_type": "code",
   "execution_count": 1,
   "id": "2d7f1228-d83d-4685-b758-56f99cceabc1",
   "metadata": {},
   "outputs": [
    {
     "name": "stdout",
     "output_type": "stream",
     "text": [
      "         Pregnancies  Glucose  BloodPressure  SkinThickness  Insulin  BMI  \\\n",
      "Outcome                                                                     \n",
      "0                500      500            500            500      500  500   \n",
      "1                268      268            268            268      268  268   \n",
      "\n",
      "         DiabetesPedigreeFunction  Age  \n",
      "Outcome                                 \n",
      "0                             500  500  \n",
      "1                             268  268  \n"
     ]
    }
   ],
   "source": [
    "import tensorflow as tf\n",
    "import numpy as np\n",
    "import pandas as pd\n",
    "import tensorflow as tf\n",
    "\n",
    "RS=0\n",
    "\n",
    "tf.random.set_seed(seed=RS)\n",
    "\n",
    "df = pd.read_csv(\"diabetes.csv\")\n",
    "\n",
    "# df = df[(df['BloodPressure']!=0) & (df['SkinThickness']!=0) & (df['BMI']!=0)]\n",
    "print(df.groupby(['Outcome']).count())\n",
    "\n",
    "y = df[\"Outcome\"]\n",
    "X = df.drop([\"Outcome\"], axis=1)"
   ]
  },
  {
   "cell_type": "markdown",
   "id": "bacd0774-1496-44b6-bef1-617eea73a999",
   "metadata": {},
   "source": [
    "## Formatting the data\n",
    "\n",
    "This part is one of the most important parts, that's because neural networks works better with values between 0 and 1. So we will format the data.\n",
    "\n",
    "But before that let's take a look at the details of the dataframe:"
   ]
  },
  {
   "cell_type": "code",
   "execution_count": 2,
   "id": "e601f4cf-16dd-45e8-bfd6-2d0475841a12",
   "metadata": {},
   "outputs": [
    {
     "data": {
      "text/html": [
       "<div>\n",
       "<style scoped>\n",
       "    .dataframe tbody tr th:only-of-type {\n",
       "        vertical-align: middle;\n",
       "    }\n",
       "\n",
       "    .dataframe tbody tr th {\n",
       "        vertical-align: top;\n",
       "    }\n",
       "\n",
       "    .dataframe thead th {\n",
       "        text-align: right;\n",
       "    }\n",
       "</style>\n",
       "<table border=\"1\" class=\"dataframe\">\n",
       "  <thead>\n",
       "    <tr style=\"text-align: right;\">\n",
       "      <th></th>\n",
       "      <th>Pregnancies</th>\n",
       "      <th>Glucose</th>\n",
       "      <th>BloodPressure</th>\n",
       "      <th>SkinThickness</th>\n",
       "      <th>Insulin</th>\n",
       "      <th>BMI</th>\n",
       "      <th>DiabetesPedigreeFunction</th>\n",
       "      <th>Age</th>\n",
       "      <th>Outcome</th>\n",
       "    </tr>\n",
       "  </thead>\n",
       "  <tbody>\n",
       "    <tr>\n",
       "      <th>0</th>\n",
       "      <td>6</td>\n",
       "      <td>148</td>\n",
       "      <td>72</td>\n",
       "      <td>35</td>\n",
       "      <td>0</td>\n",
       "      <td>33.6</td>\n",
       "      <td>0.627</td>\n",
       "      <td>50</td>\n",
       "      <td>1</td>\n",
       "    </tr>\n",
       "    <tr>\n",
       "      <th>1</th>\n",
       "      <td>1</td>\n",
       "      <td>85</td>\n",
       "      <td>66</td>\n",
       "      <td>29</td>\n",
       "      <td>0</td>\n",
       "      <td>26.6</td>\n",
       "      <td>0.351</td>\n",
       "      <td>31</td>\n",
       "      <td>0</td>\n",
       "    </tr>\n",
       "    <tr>\n",
       "      <th>2</th>\n",
       "      <td>8</td>\n",
       "      <td>183</td>\n",
       "      <td>64</td>\n",
       "      <td>0</td>\n",
       "      <td>0</td>\n",
       "      <td>23.3</td>\n",
       "      <td>0.672</td>\n",
       "      <td>32</td>\n",
       "      <td>1</td>\n",
       "    </tr>\n",
       "    <tr>\n",
       "      <th>3</th>\n",
       "      <td>1</td>\n",
       "      <td>89</td>\n",
       "      <td>66</td>\n",
       "      <td>23</td>\n",
       "      <td>94</td>\n",
       "      <td>28.1</td>\n",
       "      <td>0.167</td>\n",
       "      <td>21</td>\n",
       "      <td>0</td>\n",
       "    </tr>\n",
       "    <tr>\n",
       "      <th>4</th>\n",
       "      <td>0</td>\n",
       "      <td>137</td>\n",
       "      <td>40</td>\n",
       "      <td>35</td>\n",
       "      <td>168</td>\n",
       "      <td>43.1</td>\n",
       "      <td>2.288</td>\n",
       "      <td>33</td>\n",
       "      <td>1</td>\n",
       "    </tr>\n",
       "  </tbody>\n",
       "</table>\n",
       "</div>"
      ],
      "text/plain": [
       "   Pregnancies  Glucose  BloodPressure  SkinThickness  Insulin   BMI  \\\n",
       "0            6      148             72             35        0  33.6   \n",
       "1            1       85             66             29        0  26.6   \n",
       "2            8      183             64              0        0  23.3   \n",
       "3            1       89             66             23       94  28.1   \n",
       "4            0      137             40             35      168  43.1   \n",
       "\n",
       "   DiabetesPedigreeFunction  Age  Outcome  \n",
       "0                     0.627   50        1  \n",
       "1                     0.351   31        0  \n",
       "2                     0.672   32        1  \n",
       "3                     0.167   21        0  \n",
       "4                     2.288   33        1  "
      ]
     },
     "execution_count": 2,
     "metadata": {},
     "output_type": "execute_result"
    }
   ],
   "source": [
    "df.head(5)"
   ]
  },
  {
   "cell_type": "markdown",
   "id": "f81b07e9-57e0-44cf-896e-603597473fc9",
   "metadata": {},
   "source": [
    "So every feature has values above 1 and that's a problem, so let's format it:"
   ]
  },
  {
   "cell_type": "code",
   "execution_count": 3,
   "id": "818526c8-8a6e-4f09-993a-bf3d84368a96",
   "metadata": {},
   "outputs": [
    {
     "data": {
      "text/html": [
       "<div>\n",
       "<style scoped>\n",
       "    .dataframe tbody tr th:only-of-type {\n",
       "        vertical-align: middle;\n",
       "    }\n",
       "\n",
       "    .dataframe tbody tr th {\n",
       "        vertical-align: top;\n",
       "    }\n",
       "\n",
       "    .dataframe thead th {\n",
       "        text-align: right;\n",
       "    }\n",
       "</style>\n",
       "<table border=\"1\" class=\"dataframe\">\n",
       "  <thead>\n",
       "    <tr style=\"text-align: right;\">\n",
       "      <th></th>\n",
       "      <th>Pregnancies</th>\n",
       "      <th>Glucose</th>\n",
       "      <th>BloodPressure</th>\n",
       "      <th>SkinThickness</th>\n",
       "      <th>Insulin</th>\n",
       "      <th>BMI</th>\n",
       "      <th>DiabetesPedigreeFunction</th>\n",
       "      <th>Age</th>\n",
       "    </tr>\n",
       "  </thead>\n",
       "  <tbody>\n",
       "    <tr>\n",
       "      <th>0</th>\n",
       "      <td>0.63953</td>\n",
       "      <td>0.847771</td>\n",
       "      <td>0.149543</td>\n",
       "      <td>0.906679</td>\n",
       "      <td>-0.692439</td>\n",
       "      <td>0.20388</td>\n",
       "      <td>0.468187</td>\n",
       "      <td>1.425067</td>\n",
       "    </tr>\n",
       "  </tbody>\n",
       "</table>\n",
       "</div>"
      ],
      "text/plain": [
       "   Pregnancies   Glucose  BloodPressure  SkinThickness   Insulin      BMI  \\\n",
       "0      0.63953  0.847771       0.149543       0.906679 -0.692439  0.20388   \n",
       "\n",
       "   DiabetesPedigreeFunction       Age  \n",
       "0                  0.468187  1.425067  "
      ]
     },
     "execution_count": 3,
     "metadata": {},
     "output_type": "execute_result"
    }
   ],
   "source": [
    "mean = X.mean(axis=0)\n",
    "X -= mean\n",
    "std = X.std(axis=0)\n",
    "X /= std\n",
    "\n",
    "X.head(1)"
   ]
  },
  {
   "cell_type": "markdown",
   "id": "af2766da-6f5d-4f09-b2a0-94d65f74eccb",
   "metadata": {},
   "source": [
    "Now all values are between 0 and 1 and we can start making our model.\n",
    "\n",
    "## Making the structure model\n",
    "\n",
    "Now we can create the structure of the neural network, in this example we will use the following structure:"
   ]
  },
  {
   "cell_type": "code",
   "execution_count": 4,
   "id": "f0525c98-ee8d-4ab3-b3a8-14063a5d2e97",
   "metadata": {},
   "outputs": [
    {
     "name": "stdout",
     "output_type": "stream",
     "text": [
      "Model: \"sequential\"\n",
      "_________________________________________________________________\n",
      "Layer (type)                 Output Shape              Param #   \n",
      "=================================================================\n",
      "dense (Dense)                (None, 8)                 72        \n",
      "_________________________________________________________________\n",
      "dense_1 (Dense)              (None, 32)                288       \n",
      "_________________________________________________________________\n",
      "dense_2 (Dense)              (None, 32)                1056      \n",
      "_________________________________________________________________\n",
      "dense_3 (Dense)              (None, 32)                1056      \n",
      "_________________________________________________________________\n",
      "dense_4 (Dense)              (None, 8)                 264       \n",
      "_________________________________________________________________\n",
      "dense_5 (Dense)              (None, 8)                 72        \n",
      "_________________________________________________________________\n",
      "dense_6 (Dense)              (None, 1)                 9         \n",
      "=================================================================\n",
      "Total params: 2,817\n",
      "Trainable params: 2,817\n",
      "Non-trainable params: 0\n",
      "_________________________________________________________________\n"
     ]
    }
   ],
   "source": [
    "from tensorflow.keras.models import Sequential\n",
    "from tensorflow.keras.layers import Dense, Dropout\n",
    "\n",
    "model = Sequential([\n",
    "    Dense(8, input_dim=8, activation=\"relu\"),\n",
    "#     Dropout(rate=0.1),\n",
    "    Dense(32, activation=\"relu\"),\n",
    "    Dense(32, activation=\"relu\"),\n",
    "    Dense(32, activation=\"relu\"),\n",
    "    Dense(8, activation=\"relu\"),\n",
    "\n",
    "    Dense(1, activation=\"sigmoid\"),\n",
    "])\n",
    "\n",
    "model.summary()"
   ]
  },
  {
   "cell_type": "markdown",
   "id": "c75478cc-28bb-4b99-a1dd-55c1117e5cc3",
   "metadata": {},
   "source": [
    "Above you can se more details about the structure...\n",
    "\n",
    "A Dropout function has been used so we pick random neurons of the layer that comes after it has been called.\n",
    "\n",
    "## Splitting the data\n",
    "\n",
    "To train the model we need to split the data so we can get a better result."
   ]
  },
  {
   "cell_type": "code",
   "execution_count": 5,
   "id": "32ac47aa-8453-4c80-b86b-5cd8a29cc9ba",
   "metadata": {},
   "outputs": [],
   "source": [
    "from sklearn.model_selection import train_test_split\n",
    "\n",
    "X_train, X_test, y_train, y_test = train_test_split(X, y, train_size=0.8, test_size=0.2, random_state=RS)\n",
    "X_train, X_valid, y_train, y_valid = train_test_split(X_train, y_train, train_size=0.7, test_size=0.3, random_state=RS)"
   ]
  },
  {
   "cell_type": "markdown",
   "id": "078ae3d4-9c8b-4345-be4d-992ba9a3e6bb",
   "metadata": {},
   "source": [
    "Now that we have the trainning and validation data we can train it.\n",
    "\n",
    "## Training the model\n",
    "\n",
    "To train the data we will use WarlyStopping function that will stop the training as soon as the overfitting starts."
   ]
  },
  {
   "cell_type": "code",
   "execution_count": 6,
   "id": "3c3f7fb1-c8d7-4e5f-ad4f-68073124549f",
   "metadata": {},
   "outputs": [
    {
     "data": {
      "text/plain": [
       "<AxesSubplot:>"
      ]
     },
     "execution_count": 6,
     "metadata": {},
     "output_type": "execute_result"
    },
    {
     "data": {
      "image/png": "[encoded data removed]",
      "text/plain": [
       "<Figure size 432x288 with 1 Axes>"
      ]
     },
     "metadata": {
      "needs_background": "light"
     },
     "output_type": "display_data"
    },
    {
     "data": {
      "image/png": "[encoded data removed]",
      "text/plain": [
       "<Figure size 432x288 with 1 Axes>"
      ]
     },
     "metadata": {
      "needs_background": "light"
     },
     "output_type": "display_data"
    }
   ],
   "source": [
    "from tensorflow.keras.callbacks import EarlyStopping\n",
    "\n",
    "model.compile(\n",
    "    loss=\"binary_crossentropy\",\n",
    "    optimizer=\"rmsprop\",\n",
    "    metrics=[\"accuracy\"]\n",
    ")\n",
    "\n",
    "early_stopping = EarlyStopping(\n",
    "    patience=10,\n",
    "    min_delta=0.00005,\n",
    "    restore_best_weights=True,\n",
    ")\n",
    "\n",
    "history = model.fit(\n",
    "    x=X_train,\n",
    "    y=y_train,\n",
    "    validation_data=(X_valid, y_valid),\n",
    "    epochs=100,\n",
    "    batch_size=32,\n",
    "    callbacks=[early_stopping],\n",
    "    verbose=0,\n",
    ")\n",
    "\n",
    "history_df = pd.DataFrame(history.history)\n",
    "\n",
    "history_df.loc[0:, ['loss', 'val_loss']].plot()\n",
    "history_df.loc[0:, ['accuracy', 'val_accuracy']].plot()"
   ]
  },
  {
   "cell_type": "markdown",
   "id": "10638bb7-fef2-4d1e-ae3f-79fbbbb288ea",
   "metadata": {},
   "source": [
    "By seeing this graphics we can be sure that there is almost no overfitting, and we have trained enough so we have passed the underfitting phase.\n",
    "\n",
    "## Predicting diabetes\n",
    "\n",
    "Let's predict using the validation data:"
   ]
  },
  {
   "cell_type": "code",
   "execution_count": 7,
   "id": "b6693cfd-89bd-4ed8-9f75-4298a7400c76",
   "metadata": {},
   "outputs": [],
   "source": [
    "preds = model.predict(X_test)\n",
    "for pred in preds:\n",
    "    if pred[0] >= 0.5:\n",
    "        pred[0] = 1\n",
    "    else:\n",
    "        pred[0] = 0"
   ]
  },
  {
   "cell_type": "markdown",
   "id": "8ee12739-e301-4e20-b69f-7b39b41a2001",
   "metadata": {},
   "source": [
    "After the prediction you will have an array with values between 0 and 1 so we need to get values above of 0.5 and consider they are 1 and lower than 0.5 we change to 0. That way we can plot a confusion matrix :)\n",
    "\n",
    "## Checking the predictions"
   ]
  },
  {
   "cell_type": "code",
   "execution_count": 8,
   "id": "f024202c-2fa8-42df-beff-d78156a645bc",
   "metadata": {},
   "outputs": [
    {
     "name": "stdout",
     "output_type": "stream",
     "text": [
      "Accuracy: 75.63%\n",
      "Precision: 64.0%\n",
      "Recall: 68.09%\n",
      "F1 score: 65.98%\n"
     ]
    },
    {
     "data": {
      "text/plain": [
       "<AxesSubplot:title={'center':'Confusion Matrix'}, xlabel='Predicted label', ylabel='True label'>"
      ]
     },
     "execution_count": 8,
     "metadata": {},
     "output_type": "execute_result"
    },
    {
     "data": {
      "image/png": "[encoded data removed]",
      "text/plain": [
       "<Figure size 864x432 with 2 Axes>"
      ]
     },
     "metadata": {
      "needs_background": "light"
     },
     "output_type": "display_data"
    }
   ],
   "source": [
    "from sklearn.metrics import balanced_accuracy_score, precision_score, recall_score, f1_score\n",
    "import scikitplot as skplt\n",
    "\n",
    "print(\"Accuracy: \" + str(round(balanced_accuracy_score(y_test, preds)*100, 2)) + \"%\")\n",
    "print(\"Precision: \" + str(round(precision_score(y_test, preds, average='binary')*100, 2)) + \"%\")\n",
    "print(\"Recall: \" + str(round(recall_score(y_test, preds, average='binary')*100, 2)) + \"%\")\n",
    "print(\"F1 score: \" + str(round(f1_score(y_test, preds, average='binary')*100, 2)) + \"%\")\n",
    "\n",
    "skplt.metrics.plot_confusion_matrix(\n",
    "    y_test,\n",
    "    preds,\n",
    "    figsize=(12,6),\n",
    "    cmap=\"cool\",\n",
    ")"
   ]
  },
  {
   "cell_type": "markdown",
   "id": "c7e64298-c116-4973-b23c-90d9bcf208d6",
   "metadata": {},
   "source": [
    "Confusion matrix is a great way to display the results, because it shows our True Positives and Negatives and the False Positives and Negatives."
   ]
  }
 ],
 "metadata": {
  "kernelspec": {
   "display_name": "Python 3",
   "language": "python",
   "name": "python3"
  },
  "language_info": {
   "codemirror_mode": {
    "name": "ipython",
    "version": 3
   },
   "file_extension": ".py",
   "mimetype": "text/x-python",
   "name": "python",
   "nbconvert_exporter": "python",
   "pygments_lexer": "ipython3",
   "version": "3.8.8"
  },
  "toc-autonumbering": true
 },
 "nbformat": 4,
 "nbformat_minor": 5
}
