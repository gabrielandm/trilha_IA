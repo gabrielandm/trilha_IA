{
 "cells": [
  {
   "cell_type": "markdown",
   "metadata": {},
   "source": [
    "# Desafio 01"
   ]
  },
  {
   "cell_type": "code",
   "execution_count": 1,
   "metadata": {},
   "outputs": [
    {
     "ename": "FileNotFoundError",
     "evalue": "[Errno 2] No such file or directory: 'C:\\\\Users\\\\gabriel.paoli\\\\Github\\\\trilha_IA\\\\desafio_01\\\\diabetes.csv'",
     "output_type": "error",
     "traceback": [
      "\u001b[1;31m---------------------------------------------------------------------------\u001b[0m",
      "\u001b[1;31mFileNotFoundError\u001b[0m                         Traceback (most recent call last)",
      "\u001b[1;32m<ipython-input-1-75440ac4a974>\u001b[0m in \u001b[0;36m<module>\u001b[1;34m\u001b[0m\n\u001b[0;32m      8\u001b[0m \u001b[0msns\u001b[0m\u001b[1;33m.\u001b[0m\u001b[0mset_style\u001b[0m\u001b[1;33m(\u001b[0m\u001b[1;34m\"whitegrid\"\u001b[0m\u001b[1;33m)\u001b[0m\u001b[1;33m\u001b[0m\u001b[1;33m\u001b[0m\u001b[0m\n\u001b[0;32m      9\u001b[0m \u001b[1;33m\u001b[0m\u001b[0m\n\u001b[1;32m---> 10\u001b[1;33m \u001b[0mdiabetes\u001b[0m \u001b[1;33m=\u001b[0m \u001b[0mpd\u001b[0m\u001b[1;33m.\u001b[0m\u001b[0mread_csv\u001b[0m\u001b[1;33m(\u001b[0m\u001b[1;34mr\"C:\\Users\\gabriel.paoli\\Github\\trilha_IA\\desafio_01\\diabetes.csv\"\u001b[0m\u001b[1;33m)\u001b[0m\u001b[1;33m\u001b[0m\u001b[1;33m\u001b[0m\u001b[0m\n\u001b[0m\u001b[0;32m     11\u001b[0m \u001b[0mdiabetes_01\u001b[0m \u001b[1;33m=\u001b[0m \u001b[0mpd\u001b[0m\u001b[1;33m.\u001b[0m\u001b[0mread_csv\u001b[0m\u001b[1;33m(\u001b[0m\u001b[1;34mr\"C:\\Users\\gabriel.paoli\\Github\\trilha_IA\\desafio_01\\diabetes.csv\"\u001b[0m\u001b[1;33m)\u001b[0m\u001b[1;33m\u001b[0m\u001b[1;33m\u001b[0m\u001b[0m\n\u001b[0;32m     12\u001b[0m \u001b[0mdiabetes_01\u001b[0m \u001b[1;33m=\u001b[0m \u001b[0mdiabetes_01\u001b[0m\u001b[1;33m[\u001b[0m\u001b[1;33m(\u001b[0m\u001b[0mdiabetes_01\u001b[0m\u001b[1;33m[\u001b[0m\u001b[1;34m'BMI'\u001b[0m\u001b[1;33m]\u001b[0m \u001b[1;33m!=\u001b[0m \u001b[1;36m0\u001b[0m\u001b[1;33m)\u001b[0m \u001b[1;33m&\u001b[0m \u001b[1;33m(\u001b[0m\u001b[0mdiabetes_01\u001b[0m\u001b[1;33m[\u001b[0m\u001b[1;34m'SkinThickness'\u001b[0m\u001b[1;33m]\u001b[0m \u001b[1;33m!=\u001b[0m \u001b[1;36m0\u001b[0m\u001b[1;33m)\u001b[0m\u001b[1;33m]\u001b[0m\u001b[1;33m\u001b[0m\u001b[1;33m\u001b[0m\u001b[0m\n",
      "\u001b[1;32m~\\Anaconda3\\lib\\site-packages\\pandas\\io\\parsers.py\u001b[0m in \u001b[0;36mread_csv\u001b[1;34m(filepath_or_buffer, sep, delimiter, header, names, index_col, usecols, squeeze, prefix, mangle_dupe_cols, dtype, engine, converters, true_values, false_values, skipinitialspace, skiprows, skipfooter, nrows, na_values, keep_default_na, na_filter, verbose, skip_blank_lines, parse_dates, infer_datetime_format, keep_date_col, date_parser, dayfirst, cache_dates, iterator, chunksize, compression, thousands, decimal, lineterminator, quotechar, quoting, doublequote, escapechar, comment, encoding, dialect, error_bad_lines, warn_bad_lines, delim_whitespace, low_memory, memory_map, float_precision)\u001b[0m\n\u001b[0;32m    684\u001b[0m     )\n\u001b[0;32m    685\u001b[0m \u001b[1;33m\u001b[0m\u001b[0m\n\u001b[1;32m--> 686\u001b[1;33m     \u001b[1;32mreturn\u001b[0m \u001b[0m_read\u001b[0m\u001b[1;33m(\u001b[0m\u001b[0mfilepath_or_buffer\u001b[0m\u001b[1;33m,\u001b[0m \u001b[0mkwds\u001b[0m\u001b[1;33m)\u001b[0m\u001b[1;33m\u001b[0m\u001b[1;33m\u001b[0m\u001b[0m\n\u001b[0m\u001b[0;32m    687\u001b[0m \u001b[1;33m\u001b[0m\u001b[0m\n\u001b[0;32m    688\u001b[0m \u001b[1;33m\u001b[0m\u001b[0m\n",
      "\u001b[1;32m~\\Anaconda3\\lib\\site-packages\\pandas\\io\\parsers.py\u001b[0m in \u001b[0;36m_read\u001b[1;34m(filepath_or_buffer, kwds)\u001b[0m\n\u001b[0;32m    450\u001b[0m \u001b[1;33m\u001b[0m\u001b[0m\n\u001b[0;32m    451\u001b[0m     \u001b[1;31m# Create the parser.\u001b[0m\u001b[1;33m\u001b[0m\u001b[1;33m\u001b[0m\u001b[1;33m\u001b[0m\u001b[0m\n\u001b[1;32m--> 452\u001b[1;33m     \u001b[0mparser\u001b[0m \u001b[1;33m=\u001b[0m \u001b[0mTextFileReader\u001b[0m\u001b[1;33m(\u001b[0m\u001b[0mfp_or_buf\u001b[0m\u001b[1;33m,\u001b[0m \u001b[1;33m**\u001b[0m\u001b[0mkwds\u001b[0m\u001b[1;33m)\u001b[0m\u001b[1;33m\u001b[0m\u001b[1;33m\u001b[0m\u001b[0m\n\u001b[0m\u001b[0;32m    453\u001b[0m \u001b[1;33m\u001b[0m\u001b[0m\n\u001b[0;32m    454\u001b[0m     \u001b[1;32mif\u001b[0m \u001b[0mchunksize\u001b[0m \u001b[1;32mor\u001b[0m \u001b[0miterator\u001b[0m\u001b[1;33m:\u001b[0m\u001b[1;33m\u001b[0m\u001b[1;33m\u001b[0m\u001b[0m\n",
      "\u001b[1;32m~\\Anaconda3\\lib\\site-packages\\pandas\\io\\parsers.py\u001b[0m in \u001b[0;36m__init__\u001b[1;34m(self, f, engine, **kwds)\u001b[0m\n\u001b[0;32m    944\u001b[0m             \u001b[0mself\u001b[0m\u001b[1;33m.\u001b[0m\u001b[0moptions\u001b[0m\u001b[1;33m[\u001b[0m\u001b[1;34m\"has_index_names\"\u001b[0m\u001b[1;33m]\u001b[0m \u001b[1;33m=\u001b[0m \u001b[0mkwds\u001b[0m\u001b[1;33m[\u001b[0m\u001b[1;34m\"has_index_names\"\u001b[0m\u001b[1;33m]\u001b[0m\u001b[1;33m\u001b[0m\u001b[1;33m\u001b[0m\u001b[0m\n\u001b[0;32m    945\u001b[0m \u001b[1;33m\u001b[0m\u001b[0m\n\u001b[1;32m--> 946\u001b[1;33m         \u001b[0mself\u001b[0m\u001b[1;33m.\u001b[0m\u001b[0m_make_engine\u001b[0m\u001b[1;33m(\u001b[0m\u001b[0mself\u001b[0m\u001b[1;33m.\u001b[0m\u001b[0mengine\u001b[0m\u001b[1;33m)\u001b[0m\u001b[1;33m\u001b[0m\u001b[1;33m\u001b[0m\u001b[0m\n\u001b[0m\u001b[0;32m    947\u001b[0m \u001b[1;33m\u001b[0m\u001b[0m\n\u001b[0;32m    948\u001b[0m     \u001b[1;32mdef\u001b[0m \u001b[0mclose\u001b[0m\u001b[1;33m(\u001b[0m\u001b[0mself\u001b[0m\u001b[1;33m)\u001b[0m\u001b[1;33m:\u001b[0m\u001b[1;33m\u001b[0m\u001b[1;33m\u001b[0m\u001b[0m\n",
      "\u001b[1;32m~\\Anaconda3\\lib\\site-packages\\pandas\\io\\parsers.py\u001b[0m in \u001b[0;36m_make_engine\u001b[1;34m(self, engine)\u001b[0m\n\u001b[0;32m   1176\u001b[0m     \u001b[1;32mdef\u001b[0m \u001b[0m_make_engine\u001b[0m\u001b[1;33m(\u001b[0m\u001b[0mself\u001b[0m\u001b[1;33m,\u001b[0m \u001b[0mengine\u001b[0m\u001b[1;33m=\u001b[0m\u001b[1;34m\"c\"\u001b[0m\u001b[1;33m)\u001b[0m\u001b[1;33m:\u001b[0m\u001b[1;33m\u001b[0m\u001b[1;33m\u001b[0m\u001b[0m\n\u001b[0;32m   1177\u001b[0m         \u001b[1;32mif\u001b[0m \u001b[0mengine\u001b[0m \u001b[1;33m==\u001b[0m \u001b[1;34m\"c\"\u001b[0m\u001b[1;33m:\u001b[0m\u001b[1;33m\u001b[0m\u001b[1;33m\u001b[0m\u001b[0m\n\u001b[1;32m-> 1178\u001b[1;33m             \u001b[0mself\u001b[0m\u001b[1;33m.\u001b[0m\u001b[0m_engine\u001b[0m \u001b[1;33m=\u001b[0m \u001b[0mCParserWrapper\u001b[0m\u001b[1;33m(\u001b[0m\u001b[0mself\u001b[0m\u001b[1;33m.\u001b[0m\u001b[0mf\u001b[0m\u001b[1;33m,\u001b[0m \u001b[1;33m**\u001b[0m\u001b[0mself\u001b[0m\u001b[1;33m.\u001b[0m\u001b[0moptions\u001b[0m\u001b[1;33m)\u001b[0m\u001b[1;33m\u001b[0m\u001b[1;33m\u001b[0m\u001b[0m\n\u001b[0m\u001b[0;32m   1179\u001b[0m         \u001b[1;32melse\u001b[0m\u001b[1;33m:\u001b[0m\u001b[1;33m\u001b[0m\u001b[1;33m\u001b[0m\u001b[0m\n\u001b[0;32m   1180\u001b[0m             \u001b[1;32mif\u001b[0m \u001b[0mengine\u001b[0m \u001b[1;33m==\u001b[0m \u001b[1;34m\"python\"\u001b[0m\u001b[1;33m:\u001b[0m\u001b[1;33m\u001b[0m\u001b[1;33m\u001b[0m\u001b[0m\n",
      "\u001b[1;32m~\\Anaconda3\\lib\\site-packages\\pandas\\io\\parsers.py\u001b[0m in \u001b[0;36m__init__\u001b[1;34m(self, src, **kwds)\u001b[0m\n\u001b[0;32m   2006\u001b[0m         \u001b[0mkwds\u001b[0m\u001b[1;33m[\u001b[0m\u001b[1;34m\"usecols\"\u001b[0m\u001b[1;33m]\u001b[0m \u001b[1;33m=\u001b[0m \u001b[0mself\u001b[0m\u001b[1;33m.\u001b[0m\u001b[0musecols\u001b[0m\u001b[1;33m\u001b[0m\u001b[1;33m\u001b[0m\u001b[0m\n\u001b[0;32m   2007\u001b[0m \u001b[1;33m\u001b[0m\u001b[0m\n\u001b[1;32m-> 2008\u001b[1;33m         \u001b[0mself\u001b[0m\u001b[1;33m.\u001b[0m\u001b[0m_reader\u001b[0m \u001b[1;33m=\u001b[0m \u001b[0mparsers\u001b[0m\u001b[1;33m.\u001b[0m\u001b[0mTextReader\u001b[0m\u001b[1;33m(\u001b[0m\u001b[0msrc\u001b[0m\u001b[1;33m,\u001b[0m \u001b[1;33m**\u001b[0m\u001b[0mkwds\u001b[0m\u001b[1;33m)\u001b[0m\u001b[1;33m\u001b[0m\u001b[1;33m\u001b[0m\u001b[0m\n\u001b[0m\u001b[0;32m   2009\u001b[0m         \u001b[0mself\u001b[0m\u001b[1;33m.\u001b[0m\u001b[0munnamed_cols\u001b[0m \u001b[1;33m=\u001b[0m \u001b[0mself\u001b[0m\u001b[1;33m.\u001b[0m\u001b[0m_reader\u001b[0m\u001b[1;33m.\u001b[0m\u001b[0munnamed_cols\u001b[0m\u001b[1;33m\u001b[0m\u001b[1;33m\u001b[0m\u001b[0m\n\u001b[0;32m   2010\u001b[0m \u001b[1;33m\u001b[0m\u001b[0m\n",
      "\u001b[1;32mpandas\\_libs\\parsers.pyx\u001b[0m in \u001b[0;36mpandas._libs.parsers.TextReader.__cinit__\u001b[1;34m()\u001b[0m\n",
      "\u001b[1;32mpandas\\_libs\\parsers.pyx\u001b[0m in \u001b[0;36mpandas._libs.parsers.TextReader._setup_parser_source\u001b[1;34m()\u001b[0m\n",
      "\u001b[1;31mFileNotFoundError\u001b[0m: [Errno 2] No such file or directory: 'C:\\\\Users\\\\gabriel.paoli\\\\Github\\\\trilha_IA\\\\desafio_01\\\\diabetes.csv'"
     ]
    }
   ],
   "source": [
    "%matplotlib inline\n",
    "import pandas as pd\n",
    "import seaborn as sns\n",
    "import numpy as np\n",
    "import matplotlib.pyplot as plt\n",
    "from matplotlib.gridspec import GridSpec\n",
    "\n",
    "sns.set_style(\"whitegrid\")\n",
    "\n",
    "diabetes = pd.read_csv(r\"C:\\Users\\gabriel.paoli\\Github\\trilha_IA\\desafio_01\\diabetes.csv\")\n",
    "diabetes_01 = pd.read_csv(r\"C:\\Users\\gabriel.paoli\\Github\\trilha_IA\\desafio_01\\diabetes.csv\")\n",
    "diabetes_01 = diabetes_01[(diabetes_01['BMI'] != 0) & (diabetes_01['SkinThickness'] != 0)]\n",
    "\n",
    "diabetes_01"
   ]
  },
  {
   "cell_type": "markdown",
   "metadata": {},
   "source": [
    "#### 1 - Quantas pessoas tem diabetes?"
   ]
  },
  {
   "cell_type": "code",
   "execution_count": null,
   "metadata": {},
   "outputs": [],
   "source": [
    "# .where filters all the rows and make the other non filtered will be set to NaN\n",
    "# .dropna is to remove all NaN rows\n",
    "number_of_diabetes = len(diabetes_01[diabetes['Outcome'] == 1].index)\n",
    "\n",
    "print(f'Number of people with diabetes: {number_of_diabetes}')"
   ]
  },
  {
   "cell_type": "code",
   "execution_count": null,
   "metadata": {},
   "outputs": [],
   "source": [
    "sns.countplot(data = diabetes_01, x = 'Outcome')"
   ]
  },
  {
   "cell_type": "markdown",
   "metadata": {},
   "source": [
    "#### 2 - Qual a média das pessoas com diabetes?"
   ]
  },
  {
   "cell_type": "code",
   "execution_count": null,
   "metadata": {},
   "outputs": [],
   "source": [
    "number_of_people = len(diabetes_01.index)\n",
    "\n",
    "print(f'Since the total of people with diabetes is: {number_of_people}')\n",
    "print(f'And the total number of people with diabetes is: {number_of_diabetes}')\n",
    "print(f'The ratio of people that have diabetes in this table is: {(number_of_diabetes / number_of_people) * 100}%')"
   ]
  },
  {
   "cell_type": "markdown",
   "metadata": {},
   "source": [
    "#### 3 - Qual a pressão sanguinea média das pessoas com diabetes?"
   ]
  },
  {
   "cell_type": "code",
   "execution_count": null,
   "metadata": {},
   "outputs": [],
   "source": [
    "total_bloodpressure_diabetes = diabetes_01[diabetes['Outcome'] == 1]['BloodPressure'].sum()\n",
    "\n",
    "mean = total_bloodpressure_diabetes / number_of_diabetes"
   ]
  },
  {
   "cell_type": "code",
   "execution_count": null,
   "metadata": {},
   "outputs": [],
   "source": [
    "fig = plt.figure(figsize=(15,8))\n",
    "sns.histplot(diabetes_01['BloodPressure'])\n",
    "plt.axvline(mean, color='k', linestyle='dashed', linewidth=1)\n",
    "plt.text(x=125,y=92, s=(\"Mean: %.2f\" %mean))"
   ]
  },
  {
   "cell_type": "markdown",
   "metadata": {},
   "source": [
    "#### 4 - Existe alguma relação entre idade e diabetes?"
   ]
  },
  {
   "cell_type": "code",
   "execution_count": null,
   "metadata": {},
   "outputs": [],
   "source": [
    "diabetes_01.loc[diabetes_01['Age'] <= 90, 'Age_Cat'] = 'Under 90s'\n",
    "diabetes_01.loc[diabetes_01['Age'] <= 70, 'Age_Cat'] = 'Under 70s'\n",
    "diabetes_01.loc[diabetes_01['Age'] <= 60, 'Age_Cat'] = 'Under 60s'\n",
    "diabetes_01.loc[diabetes_01['Age'] <= 50, 'Age_Cat'] = 'Under 50s'\n",
    "diabetes_01.loc[diabetes_01['Age'] <= 40, 'Age_Cat'] = 'Under 40s'\n",
    "diabetes_01.loc[diabetes_01['Age'] <= 30, 'Age_Cat'] = 'Under 30s'"
   ]
  },
  {
   "cell_type": "code",
   "execution_count": null,
   "metadata": {},
   "outputs": [],
   "source": [
    "fig1, ax1 = plt.subplots(nrows=2, ncols=3)\n",
    "\n",
    "labels = 'Has diabetes', 'Has no diabetes'\n",
    "colors = ['#00aaff', '#fb00ff']\n",
    "#         DIABETES   NO DIABETES\n",
    "explode = (0, 0.1)\n",
    "explode2 = (0.1, 0)\n",
    "\n",
    "sizes = [\n",
    "    len(diabetes_01.where(diabetes_01['Outcome'] == 1).where(diabetes_01['Age_Cat'] == 'Under 30s').dropna().index),\n",
    "    len(diabetes_01.where(diabetes_01['Outcome'] == 0).where(diabetes_01['Age_Cat'] == 'Under 30s').dropna().index)\n",
    "]\n",
    "ax1[0,0].pie(\n",
    "    sizes,\n",
    "    explode=explode,\n",
    "    colors=colors\n",
    ")\n",
    "ax1[0,0].set_title('21 - 30', fontweight='bold')\n",
    "\n",
    "sizes = [\n",
    "    len(diabetes_01.where(diabetes_01['Outcome'] == 1).where(diabetes_01['Age_Cat'] == 'Under 40s').dropna().index),\n",
    "    len(diabetes_01.where(diabetes_01['Outcome'] == 0).where(diabetes_01['Age_Cat'] == 'Under 40s').dropna().index)\n",
    "]\n",
    "ax1[0,1].pie(\n",
    "    sizes,\n",
    "    explode=explode,\n",
    "    colors=colors\n",
    ")\n",
    "ax1[0,1].set_title('31 - 40', fontweight='bold')\n",
    "\n",
    "sizes = [\n",
    "    len(diabetes_01.where(diabetes_01['Outcome'] == 1).where(diabetes_01['Age_Cat'] == 'Under 50s').dropna().index),\n",
    "    len(diabetes_01.where(diabetes_01['Outcome'] == 0).where(diabetes_01['Age_Cat'] == 'Under 50s').dropna().index)\n",
    "]\n",
    "ax1[0,2].pie(\n",
    "    sizes,\n",
    "    explode=explode,\n",
    "    colors=colors\n",
    ")\n",
    "ax1[0,2].set_title('41 - 50', fontweight='bold')\n",
    "\n",
    "sizes = [\n",
    "    len(diabetes_01.where(diabetes_01['Outcome'] == 1).where(diabetes_01['Age_Cat'] == 'Under 60s').dropna().index),\n",
    "    len(diabetes_01.where(diabetes_01['Outcome'] == 0).where(diabetes_01['Age_Cat'] == 'Under 60s').dropna().index)\n",
    "]\n",
    "ax1[1,0].pie(\n",
    "    sizes,\n",
    "    explode=explode,\n",
    "    colors=colors\n",
    ")\n",
    "ax1[1,0].set_title('51 - 60', fontweight='bold')\n",
    "\n",
    "sizes = [\n",
    "    len(diabetes_01.where(diabetes_01['Outcome'] == 1).where(diabetes_01['Age_Cat'] == 'Under 70s').dropna().index),\n",
    "    len(diabetes_01.where(diabetes_01['Outcome'] == 0).where(diabetes_01['Age_Cat'] == 'Under 70s').dropna().index)\n",
    "]\n",
    "ax1[1,1].pie(\n",
    "    sizes,\n",
    "    explode=explode,\n",
    "    colors=colors\n",
    ")\n",
    "ax1[1,1].set_title('61 - 70', fontweight='bold')\n",
    "\n",
    "sizes = [\n",
    "    len(diabetes_01[(diabetes_01['Outcome'] == 1) & (diabetes_01['Age_Cat'] == 'Under 90s')].index),\n",
    "    len(diabetes_01[(diabetes_01['Outcome'] == 0) & (diabetes_01['Age_Cat'] == 'Under 90s')].index)\n",
    "]\n",
    "ax1[1,2].pie(\n",
    "    sizes,\n",
    "    explode=explode,\n",
    "    colors=colors\n",
    ")\n",
    "ax1[1,2].set_title('71 - 90', fontweight='bold')"
   ]
  },
  {
   "cell_type": "markdown",
   "metadata": {},
   "source": [
    "Com as informações obtidas pelo gráfico podemos concluir que pessoas mais velhas possuem uma propensão maior a adquirir diabetes, podemos chegar a essa conclusão por causa da proporção entre a quantidade de pessoas com diabetes e sem diabetes.\n",
    "\n",
    "Outra possível conclusão é que a expectativa de vida de pessoas com diabetes é menor que as sem diabetes, por isso temos que de 71 a 90 nenhuma das pessoas participantes da pesquisa possuem diabetes."
   ]
  },
  {
   "cell_type": "markdown",
   "metadata": {},
   "source": [
    "#### 5 - Relação entre grossura de pele, IMC e diabetes"
   ]
  },
  {
   "cell_type": "code",
   "execution_count": null,
   "metadata": {},
   "outputs": [],
   "source": [
    "sns.scatterplot(\n",
    "    data=diabetes,\n",
    "    x='SkinThickness',\n",
    "    y='BMI',\n",
    "    hue='Outcome',\n",
    ")"
   ]
  },
  {
   "cell_type": "markdown",
   "metadata": {},
   "source": [
    "Com esse gráfico podemos perceber 2 erros graves que possam ter interferido em alguma outra analise anterior, esses dois erros são:\n",
    "\n",
    "- 0 IMC\n",
    "- 0 Grossura de pele\n",
    "\n",
    "Chegamos a essa conclusão, pois não é possível alguem possuir uma pele com grosseria igual 0, nesse caso a pessoa não teria pele e isso é impossível. Temos, também, o IMC igual 0 que também é impossível, pois dessa forma a pessoa teria um peso igual a 0 ou uma altura infinita.\n",
    "\n",
    "Uma caracteristica estranha é a de IMC acima de 60 (mas é possível) e outra é a grosseria de pele proxima a 100 (que está muito longe do normal que é entre ~10 até ~60).\n",
    "\n",
    "Com todas essas novas caracteristicas obtidas iremos atualizar a nossa tabela selecionando somente os dados realmente possiveis."
   ]
  },
  {
   "cell_type": "code",
   "execution_count": null,
   "metadata": {},
   "outputs": [],
   "source": [
    "diabetes = diabetes[(diabetes['BMI'] != 0) & (diabetes['SkinThickness'] != 0)]\n",
    "\n",
    "sns.scatterplot(\n",
    "    data=diabetes,\n",
    "    x='SkinThickness',\n",
    "    y='BMI',\n",
    "    hue='Outcome',\n",
    ")"
   ]
  },
  {
   "cell_type": "markdown",
   "metadata": {},
   "source": [
    "Agora, com esses dados atualizados podemos concluir que pode sim existir alguma relação entre a grossura da pele, IMC e diabetes.\n",
    "\n",
    "- Existe uma possibilidade de que pessoas com diabetes não possuam pele mais grossa que o as sem diabetes, pelo fato de estarem igualmente dispersas entre o IMC igual a 30 e 40.\n",
    "- Existe a possibilidade de que pessoas obesas (IMC alto) tenham uma propensão maior a ter diabetes.\n",
    "\n",
    "Obviamente, o IMC se relaciona diretamente com a grossura da pele, pois a camada de gordura é maior."
   ]
  },
  {
   "cell_type": "markdown",
   "metadata": {},
   "source": [
    "#### 6 - Existe relação entre diabetes e hereditariedade?\n",
    "\n",
    "Temos a coluna DiabetesPedigreeFunction, que é um valor que depende diretamente dos familiares diabeticos ou não. É um calculo realizado para determinar uma possível tendência à pessoa ter diabetes."
   ]
  },
  {
   "cell_type": "code",
   "execution_count": null,
   "metadata": {},
   "outputs": [],
   "source": [
    "sns.stripplot(\n",
    "    data=diabetes,\n",
    "    x='Outcome',\n",
    "    y='DiabetesPedigreeFunction',\n",
    ")"
   ]
  },
  {
   "cell_type": "markdown",
   "metadata": {},
   "source": [
    "Podemos concluir que existe sim uma relação entre DiabetesPedigreeFunction e diabetes, ou seja, diabetes tem relação genética.\n",
    "\n",
    "Pode-se perceber que quanto mais próximo a 0 a proporção de pessoas sem diabetes é bem maior que as outras.\n",
    "\n",
    "Além disso é possível dizer que é mais fácil ter diabetes quando algum parente (como pai e mãe) teve diabetes antes da gravidez."
   ]
  }
 ],
 "metadata": {
  "kernelspec": {
   "display_name": "Python 3",
   "language": "python",
   "name": "python3"
  },
  "language_info": {
   "codemirror_mode": {
    "name": "ipython",
    "version": 3
   },
   "file_extension": ".py",
   "mimetype": "text/x-python",
   "name": "python",
   "nbconvert_exporter": "python",
   "pygments_lexer": "ipython3",
   "version": "3.8.5"
  },
  "toc-autonumbering": false
 },
 "nbformat": 4,
 "nbformat_minor": 4
}
